{
  "cells": [
    {
      "cell_type": "markdown",
      "metadata": {},
      "source": [
        "#### Topsis for pre-trained models\n",
        "\n",
        "##### Here, I'm using topsis to find the best model that could classify text present on huggingface website."
      ]
    },
    {
      "cell_type": "code",
      "execution_count": 4,
      "metadata": {
        "colab": {
          "base_uri": "https://localhost:8080/"
        },
        "id": "cQ8EFMSdOMYd",
        "outputId": "056008d7-a202-4385-ae2c-2c263c138b87"
      },
      "outputs": [
        {
          "name": "stdout",
          "output_type": "stream",
          "text": [
            "Ranking of pre-trained models:\n",
            "1. Model 5\n",
            "2. Model 4\n",
            "3. Model 3\n",
            "4. Model 2\n",
            "5. Model 1\n"
          ]
        }
      ],
      "source": [
        "import numpy as np\n",
        "normalized_matrix = np.array([[0.044, 0.991,  0.991],\n",
        "                             [0.352, 0.926, 0.926],\n",
        "                             [0.386, 0.904, 0.905],\n",
        "                              [0.388, 0.918, 0.918],\n",
        "                              [0.768, 0.891, 0.891]])\n",
        "\n",
        "weights = np.array([0.5, 0.6, 0.5])\n",
        "\n",
        "# Calculate the Weighted Normalized Decision Matrix\n",
        "weighted_matrix = normalized_matrix * weights\n",
        "\n",
        "# Identify Ideal and Negative Ideal Solutions\n",
        "ideal_solution = np.max(weighted_matrix, axis=0)\n",
        "negative_ideal_solution = np.min(weighted_matrix, axis=0)\n",
        "\n",
        "# Calculate Distance to Ideal Solutions\n",
        "positive_distance = np.sqrt(np.sum((weighted_matrix - ideal_solution)**2, axis=1))\n",
        "negative_distance = np.sqrt(np.sum((weighted_matrix - negative_ideal_solution)**2, axis=1))\n",
        "\n",
        "# Calculate Proximity to Ideal Solution\n",
        "proximity = negative_distance / (positive_distance + negative_distance)\n",
        "\n",
        "# Rank the Alternatives\n",
        "ranked_indices = np.argsort(proximity)[::-1]\n",
        "\n",
        "# Display the ranked alternatives\n",
        "print(\"Ranking of pre-trained models:\")\n",
        "for i, index in enumerate(ranked_indices):\n",
        "    print(f\"{i+1}. Model {index+1}\")\n"
      ]
    },
    {
      "cell_type": "code",
      "execution_count": null,
      "metadata": {},
      "outputs": [],
      "source": []
    }
  ],
  "metadata": {
    "colab": {
      "authorship_tag": "ABX9TyOkbsXULE3dDbbnDTDQmXsG",
      "include_colab_link": true,
      "provenance": []
    },
    "kernelspec": {
      "display_name": "Python 3",
      "name": "python3"
    },
    "language_info": {
      "codemirror_mode": {
        "name": "ipython",
        "version": 3
      },
      "file_extension": ".py",
      "mimetype": "text/x-python",
      "name": "python",
      "nbconvert_exporter": "python",
      "pygments_lexer": "ipython3",
      "version": "3.9.12"
    }
  },
  "nbformat": 4,
  "nbformat_minor": 0
}
